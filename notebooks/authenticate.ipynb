{
 "cells": [
  {
   "cell_type": "code",
   "execution_count": null,
   "metadata": {},
   "outputs": [],
   "source": [
    "import requests\n",
    "import json\n",
    "\n",
    "# Make Strava auth API call with your\n",
    "# client_code, client_secret and code\n",
    "response = requests.post(\n",
    "    url=\"https://www.strava.com/oauth/token\",\n",
    "    data={\n",
    "        \"client_id\": \"CLIENT ID GOES HERE \",\n",
    "        \"client_secret\": \"CLIENT SECRET GOES HERE \",\n",
    "        \"code\": \"THE CODE GOES HERE\",\n",
    "        \"grant_type\": \"authorization_code\",\n",
    "    },\n",
    ")\n",
    "# Save json response as a variable\n",
    "strava_tokens = response.json()\n",
    "# Save tokens to file\n",
    "with open(\"../stra2ical/.strava_tokens.json\", \"w\") as outfile:\n",
    "    json.dump(strava_tokens, outfile)\n",
    "# Open JSON file and print the file contents\n",
    "# to check it's worked properly\n",
    "with open(\"../stra2ical/.strava_tokens.json\") as check:\n",
    "    data = json.load(check)\n",
    "print(data)"
   ]
  }
 ],
 "metadata": {
  "kernelspec": {
   "display_name": ".venv",
   "language": "python",
   "name": "python3"
  },
  "language_info": {
   "codemirror_mode": {
    "name": "ipython",
    "version": 3
   },
   "file_extension": ".py",
   "mimetype": "text/x-python",
   "name": "python",
   "nbconvert_exporter": "python",
   "pygments_lexer": "ipython3",
   "version": "3.10.8"
  }
 },
 "nbformat": 4,
 "nbformat_minor": 2
}
